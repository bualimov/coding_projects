{
 "cells": [
  {
   "cell_type": "markdown",
   "id": "e6e19eff-dd15-4672-b565-5260cbf757c9",
   "metadata": {},
   "source": [
    "## Welcome!\n",
    "Join me in exploring the top rated chess players in the world!  \n",
    "Below is the code that leads to the creation of a **live** dataset."
   ]
  },
  {
   "cell_type": "code",
   "execution_count": 45,
   "id": "9d4fe079-6095-42a6-b0ff-d8fe5f406efd",
   "metadata": {},
   "outputs": [],
   "source": [
    "# general imports:\n",
    "import pandas as pd\n",
    "import geopandas as gpd\n",
    "import numpy as np\n",
    "import requests"
   ]
  },
  {
   "cell_type": "markdown",
   "id": "d19dbf2f-d7c0-485b-a361-687faaa4ea3d",
   "metadata": {},
   "source": [
    "Now, we can proceed. To start, my idea is to build a dataframe of all of the top rated players, with info such as their _global rank_, their _name_, their _country_ represented, and their _ELO_ (playing strength.) <br>\n",
    "<br>\n",
    "### Part 1: Creating CSV & Player Selection\n",
    "I am going to use selenium webdriver to convert an existing website into a **.csv** file, so that I can experiment with it here.\n"
   ]
  },
  {
   "cell_type": "code",
   "execution_count": 38,
   "id": "553074df-746c-41cc-bbbb-16c193dbc06d",
   "metadata": {},
   "outputs": [],
   "source": [
    "# plan: use webdriver to control web browser (chrome)\n",
    "from selenium import webdriver\n",
    "\n",
    "# using 'By', we can pick apart column names\n",
    "from selenium.webdriver.common.by import By\n",
    "\n",
    "# using chrome, loading page (load wait time)\n",
    "import time"
   ]
  },
  {
   "cell_type": "code",
   "execution_count": 39,
   "id": "93f267ae-ea59-41dd-953a-40bf9d06f913",
   "metadata": {},
   "outputs": [],
   "source": [
    "# step 1: set up webdriver\n",
    "driver = webdriver.Chrome()\n",
    "\n",
    "# step 2: open url\n",
    "url = \"https://www.365chess.com/top-chess-players.php\"\n",
    "driver.get(url)\n",
    "\n",
    "# step 3: page loading (3 sec time to load the page)\n",
    "time.sleep(3)\n",
    "\n",
    "# step 4: look at rows\n",
    "rows = driver.find_elements(By.CSS_SELECTOR, 'table tbody tr')\n",
    "\n",
    "# step 5: create empty list;\n",
    "# evaluate data, create columns, and properly assign\n",
    "data = []\n",
    "for row in rows:\n",
    "    cols = row.find_elements(By.TAG_NAME, 'td')\n",
    "    player = {\n",
    "        \"Rank\": cols[0].text.strip(),\n",
    "        \"Name\": cols[1].text.strip(),\n",
    "        \"ELO\": cols[2].text.strip(),\n",
    "        \"Title\": cols[3].text.strip(),\n",
    "        # FIDE ID was listed here in slot[4], i purposely left it out.\n",
    "        \"Country\": cols[5].text.strip(),\n",
    "        \"Games\": cols[6].text.strip(),\n",
    "        \"Birth Year\": cols[7].text.strip()\n",
    "    }\n",
    "    data.append(player)\n",
    "\n",
    "# step 6: done! now save as csv\n",
    "df = pd.DataFrame(data)\n",
    "df.to_csv('topChessPlayers.csv', index=False)\n",
    "\n",
    "driver.quit()"
   ]
  },
  {
   "cell_type": "markdown",
   "id": "eed5c02f-e401-448b-9090-45bb181a9ea0",
   "metadata": {},
   "source": [
    "Great! We now have a .csv file of the world's top rated chess players. This dataset is live, so any time the code is ran, it will be updated by the second. Pretty neat. Let's take a look at the currrent **top 10** list:"
   ]
  },
  {
   "cell_type": "code",
   "execution_count": 40,
   "id": "1e02a4ab-baa2-4936-858f-55314e0ffac4",
   "metadata": {},
   "outputs": [
    {
     "data": {
      "text/html": [
       "<style type=\"text/css\">\n",
       "</style>\n",
       "<table id=\"T_43c26\">\n",
       "  <thead>\n",
       "    <tr>\n",
       "      <th id=\"T_43c26_level0_col0\" class=\"col_heading level0 col0\" >Rank</th>\n",
       "      <th id=\"T_43c26_level0_col1\" class=\"col_heading level0 col1\" >Name</th>\n",
       "      <th id=\"T_43c26_level0_col2\" class=\"col_heading level0 col2\" >ELO</th>\n",
       "      <th id=\"T_43c26_level0_col3\" class=\"col_heading level0 col3\" >Title</th>\n",
       "      <th id=\"T_43c26_level0_col4\" class=\"col_heading level0 col4\" >Country</th>\n",
       "      <th id=\"T_43c26_level0_col5\" class=\"col_heading level0 col5\" >Games</th>\n",
       "      <th id=\"T_43c26_level0_col6\" class=\"col_heading level0 col6\" >Birth Year</th>\n",
       "    </tr>\n",
       "  </thead>\n",
       "  <tbody>\n",
       "    <tr>\n",
       "      <td id=\"T_43c26_row0_col0\" class=\"data row0 col0\" >1</td>\n",
       "      <td id=\"T_43c26_row0_col1\" class=\"data row0 col1\" >Magnus Carlsen</td>\n",
       "      <td id=\"T_43c26_row0_col2\" class=\"data row0 col2\" >2832</td>\n",
       "      <td id=\"T_43c26_row0_col3\" class=\"data row0 col3\" >GM</td>\n",
       "      <td id=\"T_43c26_row0_col4\" class=\"data row0 col4\" >Norway</td>\n",
       "      <td id=\"T_43c26_row0_col5\" class=\"data row0 col5\" >3527</td>\n",
       "      <td id=\"T_43c26_row0_col6\" class=\"data row0 col6\" >1990</td>\n",
       "    </tr>\n",
       "    <tr>\n",
       "      <td id=\"T_43c26_row1_col0\" class=\"data row1 col0\" >2</td>\n",
       "      <td id=\"T_43c26_row1_col1\" class=\"data row1 col1\" >Hikaru Nakamura</td>\n",
       "      <td id=\"T_43c26_row1_col2\" class=\"data row1 col2\" >2802</td>\n",
       "      <td id=\"T_43c26_row1_col3\" class=\"data row1 col3\" >GM</td>\n",
       "      <td id=\"T_43c26_row1_col4\" class=\"data row1 col4\" >United States</td>\n",
       "      <td id=\"T_43c26_row1_col5\" class=\"data row1 col5\" >3354</td>\n",
       "      <td id=\"T_43c26_row1_col6\" class=\"data row1 col6\" >1987</td>\n",
       "    </tr>\n",
       "    <tr>\n",
       "      <td id=\"T_43c26_row2_col0\" class=\"data row2 col0\" >3</td>\n",
       "      <td id=\"T_43c26_row2_col1\" class=\"data row2 col1\" >Fabiano Caruana</td>\n",
       "      <td id=\"T_43c26_row2_col2\" class=\"data row2 col2\" >2793</td>\n",
       "      <td id=\"T_43c26_row2_col3\" class=\"data row2 col3\" >GM</td>\n",
       "      <td id=\"T_43c26_row2_col4\" class=\"data row2 col4\" >United States</td>\n",
       "      <td id=\"T_43c26_row2_col5\" class=\"data row2 col5\" >3040</td>\n",
       "      <td id=\"T_43c26_row2_col6\" class=\"data row2 col6\" >1992</td>\n",
       "    </tr>\n",
       "    <tr>\n",
       "      <td id=\"T_43c26_row3_col0\" class=\"data row3 col0\" >4</td>\n",
       "      <td id=\"T_43c26_row3_col1\" class=\"data row3 col1\" >Erigaisi Arjun</td>\n",
       "      <td id=\"T_43c26_row3_col2\" class=\"data row3 col2\" >2778</td>\n",
       "      <td id=\"T_43c26_row3_col3\" class=\"data row3 col3\" >GM</td>\n",
       "      <td id=\"T_43c26_row3_col4\" class=\"data row3 col4\" >India</td>\n",
       "      <td id=\"T_43c26_row3_col5\" class=\"data row3 col5\" >904</td>\n",
       "      <td id=\"T_43c26_row3_col6\" class=\"data row3 col6\" >2003</td>\n",
       "    </tr>\n",
       "    <tr>\n",
       "      <td id=\"T_43c26_row4_col0\" class=\"data row4 col0\" >5</td>\n",
       "      <td id=\"T_43c26_row4_col1\" class=\"data row4 col1\" >Ian Nepomniachtchi</td>\n",
       "      <td id=\"T_43c26_row4_col2\" class=\"data row4 col2\" >2767</td>\n",
       "      <td id=\"T_43c26_row4_col3\" class=\"data row4 col3\" >GM</td>\n",
       "      <td id=\"T_43c26_row4_col4\" class=\"data row4 col4\" >Russian Federation</td>\n",
       "      <td id=\"T_43c26_row4_col5\" class=\"data row4 col5\" >2637</td>\n",
       "      <td id=\"T_43c26_row4_col6\" class=\"data row4 col6\" >1990</td>\n",
       "    </tr>\n",
       "    <tr>\n",
       "      <td id=\"T_43c26_row5_col0\" class=\"data row5 col0\" >6</td>\n",
       "      <td id=\"T_43c26_row5_col1\" class=\"data row5 col1\" >Gukesh D</td>\n",
       "      <td id=\"T_43c26_row5_col2\" class=\"data row5 col2\" >2766</td>\n",
       "      <td id=\"T_43c26_row5_col3\" class=\"data row5 col3\" >GM</td>\n",
       "      <td id=\"T_43c26_row5_col4\" class=\"data row5 col4\" >India</td>\n",
       "      <td id=\"T_43c26_row5_col5\" class=\"data row5 col5\" >1017</td>\n",
       "      <td id=\"T_43c26_row5_col6\" class=\"data row5 col6\" >2006</td>\n",
       "    </tr>\n",
       "    <tr>\n",
       "      <td id=\"T_43c26_row6_col0\" class=\"data row6 col0\" >7</td>\n",
       "      <td id=\"T_43c26_row6_col1\" class=\"data row6 col1\" >Nodirbek Abdusattorov</td>\n",
       "      <td id=\"T_43c26_row6_col2\" class=\"data row6 col2\" >2762</td>\n",
       "      <td id=\"T_43c26_row6_col3\" class=\"data row6 col3\" >GM</td>\n",
       "      <td id=\"T_43c26_row6_col4\" class=\"data row6 col4\" >Uzbekistan</td>\n",
       "      <td id=\"T_43c26_row6_col5\" class=\"data row6 col5\" >998</td>\n",
       "      <td id=\"T_43c26_row6_col6\" class=\"data row6 col6\" >2004</td>\n",
       "    </tr>\n",
       "    <tr>\n",
       "      <td id=\"T_43c26_row7_col0\" class=\"data row7 col0\" >8</td>\n",
       "      <td id=\"T_43c26_row7_col1\" class=\"data row7 col1\" >Yi Wei</td>\n",
       "      <td id=\"T_43c26_row7_col2\" class=\"data row7 col2\" >2762</td>\n",
       "      <td id=\"T_43c26_row7_col3\" class=\"data row7 col3\" >GM</td>\n",
       "      <td id=\"T_43c26_row7_col4\" class=\"data row7 col4\" >China</td>\n",
       "      <td id=\"T_43c26_row7_col5\" class=\"data row7 col5\" >1112</td>\n",
       "      <td id=\"T_43c26_row7_col6\" class=\"data row7 col6\" >1999</td>\n",
       "    </tr>\n",
       "    <tr>\n",
       "      <td id=\"T_43c26_row8_col0\" class=\"data row8 col0\" >9</td>\n",
       "      <td id=\"T_43c26_row8_col1\" class=\"data row8 col1\" >Viswanathan Anand</td>\n",
       "      <td id=\"T_43c26_row8_col2\" class=\"data row8 col2\" >2751</td>\n",
       "      <td id=\"T_43c26_row8_col3\" class=\"data row8 col3\" >GM</td>\n",
       "      <td id=\"T_43c26_row8_col4\" class=\"data row8 col4\" >India</td>\n",
       "      <td id=\"T_43c26_row8_col5\" class=\"data row8 col5\" >4011</td>\n",
       "      <td id=\"T_43c26_row8_col6\" class=\"data row8 col6\" >1969</td>\n",
       "    </tr>\n",
       "    <tr>\n",
       "      <td id=\"T_43c26_row9_col0\" class=\"data row9 col0\" >10</td>\n",
       "      <td id=\"T_43c26_row9_col1\" class=\"data row9 col1\" >Alireza Firouzja</td>\n",
       "      <td id=\"T_43c26_row9_col2\" class=\"data row9 col2\" >2751</td>\n",
       "      <td id=\"T_43c26_row9_col3\" class=\"data row9 col3\" >GM</td>\n",
       "      <td id=\"T_43c26_row9_col4\" class=\"data row9 col4\" >France</td>\n",
       "      <td id=\"T_43c26_row9_col5\" class=\"data row9 col5\" >1158</td>\n",
       "      <td id=\"T_43c26_row9_col6\" class=\"data row9 col6\" >2003</td>\n",
       "    </tr>\n",
       "  </tbody>\n",
       "</table>\n"
      ],
      "text/plain": [
       "<pandas.io.formats.style.Styler at 0x117254e90>"
      ]
     },
     "execution_count": 40,
     "metadata": {},
     "output_type": "execute_result"
    }
   ],
   "source": [
    "# top 10 in the world:\n",
    "df.head(10).style.hide(axis='index')"
   ]
  },
  {
   "cell_type": "markdown",
   "id": "a5e6118d-9ee4-4469-b9d3-f23477f8dcbc",
   "metadata": {},
   "source": [
    "_Beautiful!_ Now, I want to create a prompt that requests the user to input certain info, and receive a quick summary of the player. Maybe at first start with something simple like the name, but afterwards allow the user to apply different filters. Let's try it."
   ]
  },
  {
   "cell_type": "code",
   "execution_count": 51,
   "id": "28017c70-aa0d-4e19-b174-feaea4d16eec",
   "metadata": {},
   "outputs": [
    {
     "name": "stdin",
     "output_type": "stream",
     "text": [
      "Enter player's name (first, last, or both): nodirbek\n"
     ]
    },
    {
     "name": "stdout",
     "output_type": "stream",
     "text": [
      "\n",
      "Multiple players share this name. Please make a selection below: (Enter 1, 2, 3, etc.)\n",
      "1: Abdusattorov, Nodirbek (Uzbekistan)\n",
      "2: Yakubboev, Nodirbek (Uzbekistan)\n"
     ]
    },
    {
     "name": "stdin",
     "output_type": "stream",
     "text": [
      "\n",
      "Select a player:  1\n"
     ]
    },
    {
     "name": "stdout",
     "output_type": "stream",
     "text": [
      "The player you selected was Nodirbek Abdusattorov. Out of all the players in the world, Abdusattorov currently holds position rank 7. Nodirbek was born in Uzbekistan, in the year 2004. Since then, he has achieved the incredible ELO of 2762 through a stellar 998 hard-fought matches. At the age of 20, he currently holds one of the highest achievable title in all of chess - a GM.\n",
      "\n",
      "\n"
     ]
    }
   ],
   "source": [
    "import pandas as pd\n",
    "\n",
    "df = pd.read_csv('topChessPlayers.csv')\n",
    "\n",
    "# forcing user to enter either first or last name is too restrictive\n",
    "# going to try to allow the user to do either.\n",
    "name_input = input(\"Enter player's name (first, last, or both):\").strip().lower()\n",
    "\n",
    "# split name into separate words\n",
    "name_parts = name_input.split()\n",
    "\n",
    "# function to retrieve player's first and last names\n",
    "def get_name(full_name):\n",
    "    parts = full_name.strip().lower().split()\n",
    "    return parts[0], parts[-1] # -1 is the last element in array\n",
    "\n",
    "# important line: makes columns of first + last names, respectively\n",
    "df['firstName'], df['lastName'] = zip(*df['Name'].apply(get_name))\n",
    "\n",
    "# test statements, check to see if any players match\n",
    "# creates a dataframe of all names that match (could be multiple)\n",
    "if len(name_parts) == 1:\n",
    "    matching_players = df[(df['firstName'] == name_parts[0]) | (df['lastName'] == name_parts[-1])]\n",
    "elif len(name_parts) == 2:\n",
    "    matching_players = df[(df['firstName'] == name_parts[0]) & (df['lastName'] == name_parts[-1])]\n",
    "else:\n",
    "    matching_players = pd.DataFrame()\n",
    "\n",
    "# reset indicies to make selection process clear.\n",
    "matching_players = matching_players.reset_index(drop=True)\n",
    "\n",
    "# if one player is the match, good\n",
    "# if multiple matches, print them out and make a choice\n",
    "if not matching_players.empty:\n",
    "    if len(matching_players) == 1:\n",
    "        player = matching_players.iloc[0]\n",
    "        age = 2024 - player['Birth Year']\n",
    "        print(f\"\"\"The player you selected was {player['Name']}. Out of all the players in the world, {player['lastName'].capitalize()} currently holds position rank {player['Rank']}. {player['firstName'].capitalize()} was born in {player['Country']}, in the year {player['Birth Year']}. Since then, he has achieved the impressive ELO of {player['ELO']} through a whopping {player['Games']} hard-fought matches. At the age of {age}, He currently holds one of the highest achievable title in all of chess - a {player['Title']}.\"\"\")\n",
    "\n",
    "    else:\n",
    "        print(\"\\nMultiple players share this name. Please make a selection below: (Enter 1, 2, 3, etc.)\")\n",
    "        for idx, player in matching_players.iterrows():\n",
    "            print(f\"{idx + 1}: {player['lastName'].capitalize()}, {player['firstName'].capitalize()} ({player['Country']})\")\n",
    "            \n",
    "        selected_index = int(input(\"\\nSelect a player: \")) - 1\n",
    "        \n",
    "        if selected_index >= 0 and selected_index < len(matching_players):\n",
    "            selected_player = matching_players.iloc[selected_index]\n",
    "            age = 2024 - selected_player['Birth Year']\n",
    "            print(f\"The player you selected was {selected_player['Name']}. Out of all the players in the world, {selected_player['lastName'].capitalize()} currently holds position rank {selected_player['Rank']}. {selected_player['firstName'].capitalize()} was born in {selected_player['Country']}, in the year {selected_player['Birth Year']}. Since then, he has achieved the incredible ELO of {selected_player['ELO']} through a stellar {selected_player['Games']} hard-fought matches. At the age of {age}, he currently holds one of the highest achievable title in all of chess - a {selected_player['Title']}.\")\n",
    "        else:\n",
    "            print(\"Invalid selection.\")\n",
    "\n",
    "else: \n",
    "    print(\"No player found.\")\n",
    "\n",
    "print(\"\\n\")"
   ]
  },
  {
   "cell_type": "markdown",
   "id": "27ab1103-b464-4abc-b57d-07d2194b0fda",
   "metadata": {},
   "source": [
    "Finally, after lots of coding and debugging, I was able to achieve what I wanted for the most part. There are lots of tweaks that could be added to make things flow better and for the descriptions to be more specific, but this will do for now. \n",
    "### Part 2: Data Retrieval (numbers)\n",
    "Let's see what we can do with the data that we have, maybe some kind of charts, and if not, just some general info made available to the user upon request."
   ]
  },
  {
   "cell_type": "code",
   "execution_count": null,
   "id": "970b786d-afb1-4184-b930-fe28effaca9b",
   "metadata": {},
   "outputs": [],
   "source": []
  }
 ],
 "metadata": {
  "kernelspec": {
   "display_name": "Python 3 (ipykernel)",
   "language": "python",
   "name": "python3"
  },
  "language_info": {
   "codemirror_mode": {
    "name": "ipython",
    "version": 3
   },
   "file_extension": ".py",
   "mimetype": "text/x-python",
   "name": "python",
   "nbconvert_exporter": "python",
   "pygments_lexer": "ipython3",
   "version": "3.12.4"
  }
 },
 "nbformat": 4,
 "nbformat_minor": 5
}
